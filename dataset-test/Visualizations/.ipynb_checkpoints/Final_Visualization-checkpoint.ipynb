{
 "cells": [
  {
   "cell_type": "code",
   "execution_count": 150,
   "metadata": {
    "collapsed": true
   },
   "outputs": [],
   "source": [
    "import numpy as np\n",
    "import pandas as pd\n",
    "import seaborn as sns\n",
    "import matplotlib as plt\n",
    "import plotly.plotly as py\n",
    "from plotly.graph_objs import *\n",
    "import matplotlib.pyplot as plt"
   ]
  },
  {
   "cell_type": "code",
   "execution_count": 151,
   "metadata": {},
   "outputs": [
    {
     "data": {
      "text/plain": [
       "'/Users/alvinchung/Documents/GitHub/govhack2017/dataset-test/Visualizations'"
      ]
     },
     "execution_count": 151,
     "metadata": {},
     "output_type": "execute_result"
    }
   ],
   "source": [
    "pwd"
   ]
  },
  {
   "cell_type": "code",
   "execution_count": 152,
   "metadata": {},
   "outputs": [
    {
     "data": {
      "text/html": [
       "<div>\n",
       "<style>\n",
       "    .dataframe thead tr:only-child th {\n",
       "        text-align: right;\n",
       "    }\n",
       "\n",
       "    .dataframe thead th {\n",
       "        text-align: left;\n",
       "    }\n",
       "\n",
       "    .dataframe tbody tr th {\n",
       "        vertical-align: top;\n",
       "    }\n",
       "</style>\n",
       "<table border=\"1\" class=\"dataframe\">\n",
       "  <thead>\n",
       "    <tr style=\"text-align: right;\">\n",
       "      <th></th>\n",
       "      <th>Unnamed: 0</th>\n",
       "      <th>year</th>\n",
       "      <th>school</th>\n",
       "      <th>subject</th>\n",
       "      <th>t_band6</th>\n",
       "      <th>t_male</th>\n",
       "      <th>t_female</th>\n",
       "    </tr>\n",
       "  </thead>\n",
       "  <tbody>\n",
       "    <tr>\n",
       "      <th>0</th>\n",
       "      <td>0</td>\n",
       "      <td>2016</td>\n",
       "      <td>Inverell High School</td>\n",
       "      <td>15080 - Design and Technology</td>\n",
       "      <td>1</td>\n",
       "      <td>0</td>\n",
       "      <td>1</td>\n",
       "    </tr>\n",
       "    <tr>\n",
       "      <th>1</th>\n",
       "      <td>1</td>\n",
       "      <td>2016</td>\n",
       "      <td>Inverell High School</td>\n",
       "      <td>15000 - Aboriginal Studies</td>\n",
       "      <td>1</td>\n",
       "      <td>0</td>\n",
       "      <td>1</td>\n",
       "    </tr>\n",
       "    <tr>\n",
       "      <th>2</th>\n",
       "      <td>2</td>\n",
       "      <td>2016</td>\n",
       "      <td>Inverell High School</td>\n",
       "      <td>15290 - Music 1</td>\n",
       "      <td>1</td>\n",
       "      <td>1</td>\n",
       "      <td>0</td>\n",
       "    </tr>\n",
       "    <tr>\n",
       "      <th>3</th>\n",
       "      <td>3</td>\n",
       "      <td>2016</td>\n",
       "      <td>Inverell High School</td>\n",
       "      <td>15090 - Drama</td>\n",
       "      <td>1</td>\n",
       "      <td>0</td>\n",
       "      <td>1</td>\n",
       "    </tr>\n",
       "    <tr>\n",
       "      <th>4</th>\n",
       "      <td>4</td>\n",
       "      <td>2016</td>\n",
       "      <td>Georges River College Oatley Senior Campus</td>\n",
       "      <td>15310 - Music Extension</td>\n",
       "      <td>2</td>\n",
       "      <td>2</td>\n",
       "      <td>0</td>\n",
       "    </tr>\n",
       "  </tbody>\n",
       "</table>\n",
       "</div>"
      ],
      "text/plain": [
       "   Unnamed: 0  year                                      school  \\\n",
       "0           0  2016                        Inverell High School   \n",
       "1           1  2016                        Inverell High School   \n",
       "2           2  2016                        Inverell High School   \n",
       "3           3  2016                        Inverell High School   \n",
       "4           4  2016  Georges River College Oatley Senior Campus   \n",
       "\n",
       "                         subject  t_band6  t_male  t_female  \n",
       "0  15080 - Design and Technology        1       0         1  \n",
       "1     15000 - Aboriginal Studies        1       0         1  \n",
       "2                15290 - Music 1        1       1         0  \n",
       "3                  15090 - Drama        1       0         1  \n",
       "4        15310 - Music Extension        2       2         0  "
      ]
     },
     "execution_count": 152,
     "metadata": {},
     "output_type": "execute_result"
    }
   ],
   "source": [
    "df = pd.read_csv('~/Documents/GitHub/govhack2017/dataset-test/2016.csv')\n",
    "df.head()"
   ]
  },
  {
   "cell_type": "code",
   "execution_count": 153,
   "metadata": {},
   "outputs": [
    {
     "data": {
      "text/plain": [
       "Unnamed: 0                                             25073821\n",
       "year                                                   14277312\n",
       "school        Inverell High SchoolInverell High SchoolInvere...\n",
       "subject       15080 - Design and Technology15000 - Aborigina...\n",
       "t_band6                                                   27155\n",
       "t_male                                                    11532\n",
       "t_female                                                  15623\n",
       "dtype: object"
      ]
     },
     "execution_count": 153,
     "metadata": {},
     "output_type": "execute_result"
    }
   ],
   "source": [
    "df.sum()"
   ]
  },
  {
   "cell_type": "code",
   "execution_count": 154,
   "metadata": {},
   "outputs": [
    {
     "name": "stdout",
     "output_type": "stream",
     "text": [
      "Unnamed: 0    False\n",
      "year          False\n",
      "school        False\n",
      "subject       False\n",
      "t_band6       False\n",
      "t_male        False\n",
      "t_female      False\n",
      "dtype: bool\n",
      "Unnamed: 0     int64\n",
      "year           int64\n",
      "school        object\n",
      "subject       object\n",
      "t_band6        int64\n",
      "t_male         int64\n",
      "t_female       int64\n",
      "dtype: object\n"
     ]
    }
   ],
   "source": [
    "print(df.isnull().any())\n",
    "print(df.dtypes)"
   ]
  },
  {
   "cell_type": "code",
   "execution_count": 155,
   "metadata": {},
   "outputs": [
    {
     "name": "stdout",
     "output_type": "stream",
     "text": [
      "{'15080 - Design and Technology': 118, '15000 - Aboriginal Studies': 11, '15290 - Music 1': 260, '15090 - Drama': 142, '15310 - Music Extension': 73, '15820 - Japanese Beginners': 39, '15340 - Senior Science': 122, '15830 - Japanese Continuers': 48, '15180 - Food Technology': 90, '15980 - Modern Greek Continuers': 13, '15250 - Mathematics Extension 1': 280, '15670 - French Beginners': 42, '15320 - Personal Development, Health and Physical Education': 353, '15400 - Visual Arts': 267, '15140 - English (Advanced)': 337, '26579 - Hospitality Examination': 85, '15560 - Chinese Background Speakers': 33, '15510 - Arabic Continuers': 11, '26499 - Entertainment Industry Examination': 27, '15350 - Society and Culture': 154, '15060 - Community and Family Studies': 125, '15030 - Biology': 287, '15940 - Macedonian Continuers': 6, '15540 - Chinese Beginners': 5, '15240 - Mathematics': 341, '15260 - Mathematics Extension 2': 141, '15235 - Mathematics General 2': 290, '15520 - Arabic Extension': 6, '15990 - Modern Greek Extension': 12, '15200 - Industrial Technology': 118, '15360 - Software Design and Development': 67, '15280 - History Extension': 125, '15270 - Modern History': 201, '15380 - Studies of Religion II': 112, '15100 - Earth and Environmental Science': 38, '15050 - Chemistry': 168, '15020 - Ancient History': 218, '15070 - Dance': 24, '15160 - English Extension 1': 272, '15130 - English (Standard)': 80, '15220 - Legal Studies': 247, '15110 - Economics': 132, '15190 - Geography': 91, '15040 - Business Studies': 256, '15730 - Hindi Continuers': 2, '15170 - English Extension 2': 107, '15850 - Japanese Extension': 24, '15120 - Engineering Studies': 62, '15370 - Studies of Religion I': 156, '15910 - Latin Extension': 16, '15690 - French Extension': 20, '15330 - Physics': 156, '15390 - Textiles and Design': 76, '15900 - Latin Continuers': 16, '15580 - Classical Greek Continuers': 4, '15710 - German Continuers': 23, '15010 - Agriculture': 24, '15550 - Chinese Continuers': 13, '15590 - Classical Greek Extension': 4, '15790 - Italian Beginners': 26, '15680 - French Continuers': 52, '15300 - Music 2': 69, '15150 - English as a Second Language': 39, '16140 - Vietnamese Continuers': 2, '16120 - Turkish Continuers': 5, '16030 - Portuguese Continuers': 3, '15835 - Heritage Japanese': 6, '16090 - Spanish Extension': 4, '15720 - German Extension': 9, '16070 - Spanish Beginners': 6, '15700 - German Beginners': 15, '16020 - Polish Continuers': 9, '26299 - Construction Examination': 14, '15210 - Information Processes and Technology': 63, '15570 - Chinese Extension': 6, '26199 - Business Services Examination': 18, '15800 - Italian Continuers': 22, '15810 - Italian Extension': 7, '15760 - Indonesian Continuers': 6, '27379 - Information and Digital Technology Examination': 6, '16045 - Russian Continuers': 12, '16010 - Persian Background Speakers': 6, '16050 - Serbian Continuers': 4, '15555 - Heritage Chinese (Mandarin)': 11, '15885 - Heritage Korean': 11, '26899 - Primary Industries Examination': 9, '15750 - Indonesian Beginners': 4, '15780 - Indonesian Extension': 1, '15840 - Japanese Background Speakers': 4, '26079 - Automotive Examination': 6, '15660 - Filipino Continuers': 1, '16080 - Spanish Continuers': 4, '16130 - Ukrainian Continuers': 2, '15610 - Classical Hebrew Extension': 2, '16000 - Modern Hebrew Continuers': 8, '15600 - Classical Hebrew Continuers': 2, '15970 - Modern Greek Beginners': 14, '15880 - Korean Continuers': 4, '27199 - Human Services Examination': 3, '15640 - Dutch Continuers': 2, '16035 - Punjabi Continuers': 1, '15890 - Korean Background Speakers': 2, '27499 - Tourism, Travel and Events Examination': 1, '15765 - Heritage Indonesian': 1, '27299 - Financial Services Examination': 3, '26999 - Retail Services Examination': 2, '16110 - Tamil Continuers': 1, '26399 - Electrotechnology Examination': 2, '15530 - Armenian Continuers': 1, '15960 - Maltese Continuers': 1}\n"
     ]
    }
   ],
   "source": [
    "mydict = {}\n",
    "\n",
    "for subject in df['subject']:\n",
    "    if subject not in mydict:\n",
    "        mydict[subject] = 1\n",
    "    else:\n",
    "        mydict[subject] +=1\n",
    "\n",
    "\n",
    "total_subject = mydict.values()\n",
    "name = mydict.keys()\n",
    "print(mydict)\n"
   ]
  },
  {
   "cell_type": "code",
   "execution_count": 161,
   "metadata": {},
   "outputs": [
    {
     "data": {
      "text/html": [
       "<div>\n",
       "<style>\n",
       "    .dataframe thead tr:only-child th {\n",
       "        text-align: right;\n",
       "    }\n",
       "\n",
       "    .dataframe thead th {\n",
       "        text-align: left;\n",
       "    }\n",
       "\n",
       "    .dataframe tbody tr th {\n",
       "        vertical-align: top;\n",
       "    }\n",
       "</style>\n",
       "<table border=\"1\" class=\"dataframe\">\n",
       "  <thead>\n",
       "    <tr style=\"text-align: right;\">\n",
       "      <th></th>\n",
       "      <th>Subject</th>\n",
       "      <th>Total</th>\n",
       "    </tr>\n",
       "  </thead>\n",
       "  <tbody>\n",
       "    <tr>\n",
       "      <th>0</th>\n",
       "      <td>15080 - Design and Technology</td>\n",
       "      <td>118</td>\n",
       "    </tr>\n",
       "    <tr>\n",
       "      <th>1</th>\n",
       "      <td>15000 - Aboriginal Studies</td>\n",
       "      <td>11</td>\n",
       "    </tr>\n",
       "    <tr>\n",
       "      <th>2</th>\n",
       "      <td>15290 - Music 1</td>\n",
       "      <td>260</td>\n",
       "    </tr>\n",
       "    <tr>\n",
       "      <th>3</th>\n",
       "      <td>15090 - Drama</td>\n",
       "      <td>142</td>\n",
       "    </tr>\n",
       "    <tr>\n",
       "      <th>4</th>\n",
       "      <td>15310 - Music Extension</td>\n",
       "      <td>73</td>\n",
       "    </tr>\n",
       "  </tbody>\n",
       "</table>\n",
       "</div>"
      ],
      "text/plain": [
       "                         Subject  Total\n",
       "0  15080 - Design and Technology    118\n",
       "1     15000 - Aboriginal Studies     11\n",
       "2                15290 - Music 1    260\n",
       "3                  15090 - Drama    142\n",
       "4        15310 - Music Extension     73"
      ]
     },
     "execution_count": 161,
     "metadata": {},
     "output_type": "execute_result"
    }
   ],
   "source": [
    "df1 = pd.read_csv('~/Documents/GitHub/govhack2017/dataset-test/mycsvfile.csv')\n",
    "df1.head()"
   ]
  },
  {
   "cell_type": "code",
   "execution_count": 168,
   "metadata": {},
   "outputs": [],
   "source": [
    "ax = sns.barplot(x=\"Subject\", y=\"Total\", data=df1)"
   ]
  },
  {
   "cell_type": "code",
   "execution_count": null,
   "metadata": {},
   "outputs": [],
   "source": []
  },
  {
   "cell_type": "code",
   "execution_count": null,
   "metadata": {},
   "outputs": [],
   "source": []
  },
  {
   "cell_type": "code",
   "execution_count": null,
   "metadata": {
    "collapsed": true
   },
   "outputs": [],
   "source": []
  }
 ],
 "metadata": {
  "kernelspec": {
   "display_name": "Python 3",
   "language": "python",
   "name": "python3"
  },
  "language_info": {
   "codemirror_mode": {
    "name": "ipython",
    "version": 3
   },
   "file_extension": ".py",
   "mimetype": "text/x-python",
   "name": "python",
   "nbconvert_exporter": "python",
   "pygments_lexer": "ipython3",
   "version": "3.6.1"
  }
 },
 "nbformat": 4,
 "nbformat_minor": 2
}
